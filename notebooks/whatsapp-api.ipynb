{
 "cells": [
  {
   "cell_type": "code",
   "execution_count": 327,
   "metadata": {},
   "outputs": [],
   "source": [
    "from selenium import webdriver\n",
    "from selenium.webdriver.support.ui import WebDriverWait\n",
    "from selenium.webdriver.support import expected_conditions as EC\n",
    "from selenium.webdriver.common.keys import Keys\n",
    "from selenium.webdriver.common.by import By\n",
    "from selenium.webdriver.common.action_chains import ActionChains\n",
    "import time\n",
    "import sys"
   ]
  },
  {
   "cell_type": "code",
   "execution_count": 303,
   "metadata": {},
   "outputs": [],
   "source": [
    "driver = webdriver.Chrome('C:/Users/macle/Downloads/chromedriver_win32 (3)/chromedriver.exe')\n",
    "\n",
    "driver.get(\"https://web.whatsapp.com/\")\n",
    "wait = WebDriverWait(driver, 600)"
   ]
  },
  {
   "cell_type": "code",
   "execution_count": 417,
   "metadata": {},
   "outputs": [],
   "source": [
    "contact = 'Fantasy PL'"
   ]
  },
  {
   "cell_type": "code",
   "execution_count": 418,
   "metadata": {},
   "outputs": [],
   "source": [
    "group_title = wait.until(EC.presence_of_element_located((By.XPATH, f\"//span[@title='{contact}']\")))\n",
    "group_title.click()"
   ]
  },
  {
   "cell_type": "code",
   "execution_count": 419,
   "metadata": {},
   "outputs": [],
   "source": [
    "message = driver.find_elements_by_xpath('//*[@id=\"main\"]/footer/div[1]/div[2]/div/div[2]')[0]"
   ]
  },
  {
   "cell_type": "code",
   "execution_count": 6,
   "metadata": {},
   "outputs": [],
   "source": [
    "#message.send_keys(content + Keys.ENTER)"
   ]
  },
  {
   "cell_type": "code",
   "execution_count": 2,
   "metadata": {},
   "outputs": [],
   "source": [
    "import requests"
   ]
  },
  {
   "cell_type": "code",
   "execution_count": 376,
   "metadata": {},
   "outputs": [],
   "source": [
    "base = 'https://fantasy.premierleague.com/drf/'\n",
    "\n",
    "def get_data(player_id):\n",
    "    \n",
    "    data = dict(\n",
    "        picks = base + f'entry/{player_id}/event/38/picks',\n",
    "        players = base + 'elements/',\n",
    "        live = base + 'event/38/live',\n",
    "    )\n",
    "\n",
    "    return {key: requests.get(url).json() for key, url in data.items()}"
   ]
  },
  {
   "cell_type": "code",
   "execution_count": 222,
   "metadata": {},
   "outputs": [],
   "source": []
  },
  {
   "cell_type": "code",
   "execution_count": 97,
   "metadata": {},
   "outputs": [],
   "source": [
    "class Picks:\n",
    "    \n",
    "    def __init__(self, user, picks_data, player_data, live_data):\n",
    "        self.active_players = [0,1,2,3,4,5,6,7,8,9,10]\n",
    "        self.user = user\n",
    "        self.captain = list(filter(lambda x: x['is_captain'] == True, picks_data['picks']))[0]['element']\n",
    "        self.vice_captain = list(filter(lambda x: x['is_vice_captain'] == True, picks_data['picks']))[0]['element']\n",
    "        self.picks = self.process_picks(picks_data, player_data, live_data)\n",
    "        self.points_hit = picks_data['entry_history']['event_transfers_cost']\n",
    "        \n",
    "    def process_picks(self, picks_data, player_data, live_data):\n",
    "        \n",
    "        picks_dict = [{'name': self.get_player_name(player_data, player['element']),\n",
    "                       'id': player['element'],\n",
    "                       'total_points': live_data['elements'][str(player['element'])]['stats']['total_points'] * self.captain_multiplier(player['element'], live_data['elements'][str(self.captain)]['stats']['minutes']),\n",
    "                       'explain': {key: value['points'] * self.captain_multiplier(player['element'], live_data['elements'][str(self.captain)]['stats']['minutes'])\n",
    "                                   for key, value in live_data['elements'][str(player['element'])]['explain'][0][0].items()}}\n",
    "                      for player in picks_data['picks']]\n",
    "        \n",
    "        return picks_dict\n",
    "    \n",
    "    def get_player_name(self, player_data, player_id):\n",
    "        return list(filter(lambda x: x['id'] == player_id, player_data))[0]['web_name']\n",
    "        \n",
    "    def captain_multiplier(self, player_id, captain_mins):\n",
    "        if player_id == self.captain:\n",
    "            return 2\n",
    "        if player_id == self.vice_captain and captain_mins == 0:\n",
    "            return 2\n",
    "        else:\n",
    "            return 1\n",
    "        \n",
    "    @property\n",
    "    def picks_total_points(self):\n",
    "        return sum(self.picks[i]['total_points'] for i in self.active_players)"
   ]
  },
  {
   "cell_type": "code",
   "execution_count": 391,
   "metadata": {},
   "outputs": [],
   "source": [
    "def diff_picks(picks, picks_old):\n",
    "    \n",
    "    for pick, pick_old in zip(picks[:11], picks_old[:11]):\n",
    "        if pick['id'] != pick_old['id']:\n",
    "            diff = {'name': pick['name'], 'total_points': pick['total_points'], 'explain': pick['explain']}\n",
    "            yield diff\n",
    "            diff = {'name': pick_old['name'], 'total_points': -pick_old['total_points']}\n",
    "            yield diff\n",
    "            \n",
    "        diff = {'name': pick['name'], 'total_points': pick['total_points'] - pick_old['total_points']}\n",
    "        if diff['total_points'] != 0:\n",
    "            yield diff\n",
    "        "
   ]
  },
  {
   "cell_type": "code",
   "execution_count": 172,
   "metadata": {},
   "outputs": [
    {
     "data": {
      "text/plain": [
       "[{'name': 'Rose', 'total_points': 2, 'explain': {'minutes': 1}}]"
      ]
     },
     "execution_count": 172,
     "metadata": {},
     "output_type": "execute_result"
    }
   ],
   "source": [
    "list(diff_picks(test_obj.picks, test_old_obj.picks))"
   ]
  },
  {
   "cell_type": "code",
   "execution_count": 173,
   "metadata": {},
   "outputs": [],
   "source": [
    "test_old_picks = [\n",
    "    dict(id=0, name='a', total_points=1, explain=dict(dog=1, cat=2)),\n",
    "    dict(id=1, name='b', total_points=2, explain=dict(dog=1, cat=2)),\n",
    "    dict(id=2, name='c', total_points=3, explain=dict(dog=1, cat=2)),\n",
    "    dict(id=3, name='c', total_points=3, explain=dict(dog=1, cat=2)) \n",
    "]\n",
    "test_picks = [\n",
    "    dict(id=0, name='a', total_points=-1, explain=dict(dog=0, cat=1)),\n",
    "    dict(id=1, name='b', total_points=7, explain=dict(dog=1, cat=2, horse=5)),\n",
    "    dict(id=4, name='d', total_points=3, explain=dict(dog=1, cat=2)),\n",
    "    dict(id=3, name='c', total_points=3, explain=dict(dog=1, cat=2)) \n",
    "]"
   ]
  },
  {
   "cell_type": "code",
   "execution_count": 174,
   "metadata": {},
   "outputs": [
    {
     "data": {
      "text/plain": [
       "[{'name': 'a', 'total_points': -2, 'explain': {'dog': -1, 'cat': -1}},\n",
       " {'name': 'b', 'total_points': 5, 'explain': {'horse': 5}},\n",
       " {'name': 'd', 'total_points': 3, 'explain': {'dog': 1, 'cat': 2}},\n",
       " {'name': 'c', 'total_points': -3, 'explain': {'dog': -1, 'cat': -2}}]"
      ]
     },
     "execution_count": 174,
     "metadata": {},
     "output_type": "execute_result"
    }
   ],
   "source": [
    "list(diff_picks(test_picks, test_old_picks))"
   ]
  },
  {
   "cell_type": "code",
   "execution_count": 266,
   "metadata": {},
   "outputs": [],
   "source": [
    "def diff_message(picks, picks_old):\n",
    "    output = ''\n",
    "    for diff in diff_picks(picks.picks, picks_old.picks):\n",
    "        output += f\"{diff['name']}: {diff['total_points']:+}\\n\"\n",
    "    return output"
   ]
  },
  {
   "cell_type": "code",
   "execution_count": 366,
   "metadata": {},
   "outputs": [],
   "source": [
    "def picks_to_message(picks_a, picks_old_a, picks_b, picks_old_b):\n",
    "    output = '-----------------------------\\n'\n",
    "    output += f'*{picks_a.user} [{picks_a.picks_total_points}]*\\n'\n",
    "    \n",
    "    diff = diff_message(picks_a, picks_old_a)\n",
    "    if diff:\n",
    "        output += diff\n",
    "        \n",
    "    output += f'*{picks_b.user} [{picks_b.picks_total_points}]*\\n'\n",
    "\n",
    "    diff = diff_message(picks_b, picks_old_b)\n",
    "    if diff:\n",
    "        output += diff\n",
    "    \n",
    "    return output\n",
    "    "
   ]
  },
  {
   "cell_type": "code",
   "execution_count": 364,
   "metadata": {},
   "outputs": [
    {
     "name": "stdout",
     "output_type": "stream",
     "text": [
      "-----------------------------\n",
      "*Matt [42]\n",
      "*Rose: +2\n",
      "*Tiago [38]\n",
      "*Alexander-Arnold: -4\n",
      "Pogba: +2\n",
      "\n"
     ]
    }
   ],
   "source": [
    "print(picks_to_message(test_obj, test_old_obj, test_obj2, test_old_obj2))"
   ]
  },
  {
   "cell_type": "code",
   "execution_count": 248,
   "metadata": {},
   "outputs": [],
   "source": [
    "def refresh_picks(history, player_ids):\n",
    "    \n",
    "    data = {key: get_data(value) for key, value in player_ids.items()}\n",
    "    picks = {key: Picks(key, value['picks'], value['players'], value['live']) for key, value in data.items()}\n",
    "    \n",
    "    for key, value in picks.items():\n",
    "        history[key].append(value)"
   ]
  },
  {
   "cell_type": "markdown",
   "metadata": {},
   "source": [
    "START"
   ]
  },
  {
   "cell_type": "code",
   "execution_count": 277,
   "metadata": {},
   "outputs": [],
   "source": [
    "from collections import defaultdict\n",
    "import time"
   ]
  },
  {
   "cell_type": "code",
   "execution_count": 252,
   "metadata": {},
   "outputs": [],
   "source": [
    "ids = {'Tiago': '2308505', 'Matt': '913380'}"
   ]
  },
  {
   "cell_type": "code",
   "execution_count": 401,
   "metadata": {},
   "outputs": [],
   "source": [
    "test_history = defaultdict(list)\n",
    "\n",
    "refresh_picks(test_history, ids)\n",
    "refresh_picks(test_history, ids)\n",
    "\n",
    "test_history['Matt'][-1].picks[2]['total_points'] = test_history['Matt'][-1].picks[2]['total_points']+2\n",
    "test_history['Matt'][-1].picks[2]['explain']['minutes'] = test_history['Matt'][-1].picks[2]['explain']['minutes']+1\n",
    "\n",
    "test_history['Tiago'][-1].picks[3]['total_points'] = test_history['Tiago'][-1].picks[3]['total_points']-4\n",
    "test_history['Tiago'][-1].picks[3]['explain']['minutes'] = test_history['Tiago'][-1].picks[3]['explain']['minutes']-4\n",
    "test_history['Tiago'][-1].picks[4]['total_points'] = test_history['Tiago'][-1].picks[4]['total_points']+2\n",
    "test_history['Tiago'][-1].picks[4]['explain']['minutes'] = test_history['Tiago'][-1].picks[4]['explain']['minutes']+1"
   ]
  },
  {
   "cell_type": "code",
   "execution_count": 402,
   "metadata": {},
   "outputs": [],
   "source": [
    "tiago_old_picks = test_history['Tiago'][-2]\n",
    "tiago_picks =  test_history['Tiago'][-1]\n",
    "\n",
    "matt_old_picks = test_history['Matt'][-2]\n",
    "matt_picks = test_history['Matt'][-1]"
   ]
  },
  {
   "cell_type": "code",
   "execution_count": 406,
   "metadata": {},
   "outputs": [],
   "source": [
    "history = defaultdict(list)"
   ]
  },
  {
   "cell_type": "code",
   "execution_count": 403,
   "metadata": {},
   "outputs": [
    {
     "name": "stdout",
     "output_type": "stream",
     "text": [
      "Tiago idx: 16\n",
      "Matt idx: 16\n",
      "-----------------------------\n",
      "*Tiago [19]*\n",
      "Davies: -4\n",
      "Bernardo Silva: +2\n",
      "*Matt [28]*\n",
      "Valery: +2\n",
      "\n"
     ]
    },
    {
     "ename": "KeyboardInterrupt",
     "evalue": "",
     "output_type": "error",
     "traceback": [
      "\u001b[1;31m---------------------------------------------------------------------------\u001b[0m",
      "\u001b[1;31mKeyboardInterrupt\u001b[0m                         Traceback (most recent call last)",
      "\u001b[1;32m<ipython-input-403-5becc181a422>\u001b[0m in \u001b[0;36m<module>\u001b[1;34m()\u001b[0m\n\u001b[0;32m     18\u001b[0m     \u001b[0mmessage\u001b[0m\u001b[1;33m.\u001b[0m\u001b[0msend_keys\u001b[0m\u001b[1;33m(\u001b[0m\u001b[0mcontent\u001b[0m \u001b[1;33m+\u001b[0m \u001b[0mKeys\u001b[0m\u001b[1;33m.\u001b[0m\u001b[0mENTER\u001b[0m\u001b[1;33m)\u001b[0m\u001b[1;33m\u001b[0m\u001b[0m\n\u001b[0;32m     19\u001b[0m \u001b[1;33m\u001b[0m\u001b[0m\n\u001b[1;32m---> 20\u001b[1;33m     \u001b[0mtime\u001b[0m\u001b[1;33m.\u001b[0m\u001b[0msleep\u001b[0m\u001b[1;33m(\u001b[0m\u001b[1;36m10\u001b[0m\u001b[1;33m)\u001b[0m\u001b[1;33m\u001b[0m\u001b[0m\n\u001b[0m",
      "\u001b[1;31mKeyboardInterrupt\u001b[0m: "
     ]
    }
   ],
   "source": [
    "while True:\n",
    "    \n",
    "    #refresh_picks(history, ids)\n",
    "    \n",
    "    tiago_old_picks = test_history['Tiago'][-2]\n",
    "    tiago_picks =  test_history['Tiago'][-1]\n",
    "    \n",
    "    matt_old_picks = test_history['Matt'][-2]\n",
    "    matt_picks = test_history['Matt'][-1]\n",
    "    \n",
    "    if list(diff_picks(tiago_picks.picks, tiago_old_picks.picks)) or list(diff_picks(matt_picks.picks, matt_old_picks.picks)):\n",
    "        \n",
    "        content = picks_to_message(tiago_picks, tiago_old_picks, matt_picks, matt_old_picks)\n",
    "        print('Tiago idx:', len(history['Tiago']))\n",
    "        print('Matt idx:', len(history['Matt']))\n",
    "        print(content)\n",
    "        \n",
    "    message.send_keys(content + Keys.ENTER)\n",
    "        \n",
    "    time.sleep(10)"
   ]
  },
  {
   "cell_type": "code",
   "execution_count": 408,
   "metadata": {},
   "outputs": [],
   "source": [
    "refresh_picks(history, ids)\n",
    "refresh_picks(history, ids)"
   ]
  },
  {
   "cell_type": "code",
   "execution_count": null,
   "metadata": {
    "scrolled": false
   },
   "outputs": [
    {
     "name": "stdout",
     "output_type": "stream",
     "text": [
      "Tiago idx: 116\n",
      "Matt idx: 116\n",
      "-----------------------------\n",
      "*Tiago [22]*\n",
      "Fraser: +1\n",
      "*Matt [31]*\n",
      "\n",
      "Tiago idx: 118\n",
      "Matt idx: 118\n",
      "-----------------------------\n",
      "*Tiago [37]*\n",
      "Alexander-Arnold: +5\n",
      "Davies: +5\n",
      "Bernardo Silva: +1\n",
      "Sterling: +1\n",
      "Agüero: +2\n",
      "Jiménez: +1\n",
      "*Matt [41]*\n",
      "Alexander-Arnold: +5\n",
      "Mané: +2\n",
      "Bernardo Silva: +1\n",
      "Agüero: +2\n",
      "\n",
      "Tiago idx: 121\n",
      "Matt idx: 121\n",
      "-----------------------------\n",
      "*Tiago [42]*\n",
      "Leno: +5\n",
      "*Matt [48]*\n",
      "Leno: +5\n",
      "Valery: +1\n",
      "Redmond: +1\n",
      "\n",
      "Tiago idx: 131\n",
      "Matt idx: 131\n",
      "-----------------------------\n",
      "*Tiago [39]*\n",
      "Leno: -3\n",
      "*Matt [45]*\n",
      "Leno: -3\n",
      "\n",
      "Tiago idx: 134\n",
      "Matt idx: 134\n",
      "-----------------------------\n",
      "*Tiago [40]*\n",
      "Hazard: +1\n",
      "*Matt [45]*\n",
      "\n",
      "Tiago idx: 136\n",
      "Matt idx: 136\n",
      "-----------------------------\n",
      "*Tiago [36]*\n",
      "Davies: -4\n",
      "*Matt [45]*\n",
      "\n",
      "Tiago idx: 142\n",
      "Matt idx: 142\n",
      "-----------------------------\n",
      "*Tiago [39]*\n",
      "Sterling: +3\n",
      "*Matt [45]*\n",
      "\n",
      "Tiago idx: 144\n",
      "Matt idx: 144\n",
      "-----------------------------\n",
      "*Tiago [38]*\n",
      "Davies: -1\n",
      "*Matt [45]*\n",
      "\n",
      "Tiago idx: 160\n",
      "Matt idx: 160\n",
      "-----------------------------\n",
      "*Tiago [41]*\n",
      "Alexander-Arnold: +3\n",
      "*Matt [53]*\n",
      "Alexander-Arnold: +3\n",
      "Mané: +5\n",
      "\n"
     ]
    }
   ],
   "source": [
    "while True:\n",
    "    \n",
    "    refresh_picks(history, ids)\n",
    "    \n",
    "    tiago_old_picks = history['Tiago'][-2]\n",
    "    tiago_picks =  history['Tiago'][-1]\n",
    "    \n",
    "    matt_old_picks = history['Matt'][-2]\n",
    "    matt_picks = history['Matt'][-1]\n",
    "    \n",
    "    if list(diff_picks(tiago_picks.picks, tiago_old_picks.picks)) or list(diff_picks(matt_picks.picks, matt_old_picks.picks)):\n",
    "        \n",
    "        content = picks_to_message(tiago_picks, tiago_old_picks, matt_picks, matt_old_picks)\n",
    "        print('Tiago idx:', len(history['Tiago']))\n",
    "        print('Matt idx:', len(history['Matt']))\n",
    "        print(content)\n",
    "        message.send_keys(content + Keys.ENTER)\n",
    "        \n",
    "    time.sleep(30)"
   ]
  },
  {
   "cell_type": "code",
   "execution_count": null,
   "metadata": {},
   "outputs": [],
   "source": []
  },
  {
   "cell_type": "code",
   "execution_count": null,
   "metadata": {},
   "outputs": [],
   "source": []
  }
 ],
 "metadata": {
  "kernelspec": {
   "display_name": "Python 3",
   "language": "python",
   "name": "python3"
  },
  "language_info": {
   "codemirror_mode": {
    "name": "ipython",
    "version": 3
   },
   "file_extension": ".py",
   "mimetype": "text/x-python",
   "name": "python",
   "nbconvert_exporter": "python",
   "pygments_lexer": "ipython3",
   "version": "3.6.5"
  }
 },
 "nbformat": 4,
 "nbformat_minor": 2
}
